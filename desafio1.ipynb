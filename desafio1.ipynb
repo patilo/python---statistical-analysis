{
 "cells": [
  {
   "cell_type": "markdown",
   "id": "4a2f82e2",
   "metadata": {},
   "source": [
    "#    Descripción\n",
    "El conjunto de datos contiene un informe salarial fabricado en el que puedes realizar análisis\n",
    "para tratar de estimar el salario basado en las condiciones dadas. Las columnas son las\n",
    "siguientes:\n",
    "● work_year: El año en que se pagó el salario.\n",
    "● experience_level: El nivel de experiencia en el trabajo durante el año, con los\n",
    "siguientes valores posibles: EN (nivel de entrada / junior), MI (nivel medio /\n",
    "intermedio), SE (nivel senior / experto), EX (nivel ejecutivo / director).\n",
    "● employment_type: El tipo de empleo para el puesto: PT (tiempo parcial), FT (tiempo\n",
    "completo), CT (contrato), FL (trabajo freelance).\n",
    "● job_title: El puesto de trabajo desempeñado durante el año.\n",
    "● salary: El monto total del salario bruto pagado.\n",
    "● salary_currency: La moneda en la que se pagó el salario, utilizando un código de\n",
    "moneda ISO 4217.\n",
    "● salary_in_usd: El salario en USD (tipo de cambio dividido por la tasa promedio de\n",
    "USD para el año correspondiente a través de fxdata.foorilla.com).\n",
    "● employee_residence: El país de residencia principal del empleado durante el año\n",
    "laboral, utilizando un código de país ISO 3166.\n",
    "● remote_ratio: La cantidad total de trabajo realizado de forma remota, con los\n",
    "siguientes valores posibles: 0 (sin trabajo remoto, menos del 20%), 50 (parcialmente\n",
    "remoto), 100 (totalmente remoto, más del 80%).\n",
    "● company_location: El país de la oficina principal del empleador o sucursal\n",
    "contratante, utilizando un código de país ISO 3166.\n",
    "● company_size: El número promedio de personas que trabajaron para la empresa\n",
    "durante el año: S (menos de 50 empleados, pequeña), M (50 a 250 empleados,\n",
    "mediana), L (más de 250 empleados, grande).\n",
    "\n",
    "\n",
    "\n",
    "\n",
    "Se busca realizar un análisis estadístico de estos salarios, considerando:\n",
    "1. El promedio general de los salarios, desviación estándar, quintiles y rango. (hint:\n",
    "escoge la columna adecuada para comparar)\n",
    "2. Una comparación entre los salarios agrupados por 3 diferentes categorías a tu\n",
    "elección. ¿Para cuál de ellas las medidas de tendencia central son más\n",
    "representativas? ¿Para cuál son menos representativas? Explica.\n",
    "3. ¿Qué cargos reciben mejores sueldos en las empresas con sede en Estados Unidos?"
   ]
  },
  {
   "cell_type": "code",
   "execution_count": 30,
   "id": "0bfc904b",
   "metadata": {
    "scrolled": true
   },
   "outputs": [
    {
     "name": "stdout",
     "output_type": "stream",
     "text": [
      "   work_year experience_level employment_type                 job_title  \\\n",
      "0       2023               SE              FT  Principal Data Scientist   \n",
      "1       2023               MI              CT               ML Engineer   \n",
      "2       2023               MI              CT               ML Engineer   \n",
      "3       2023               SE              FT            Data Scientist   \n",
      "4       2023               SE              FT            Data Scientist   \n",
      "\n",
      "   salary salary_currency  salary_in_usd employee_residence  remote_ratio  \\\n",
      "0   80000             EUR          85847                 ES           100   \n",
      "1   30000             USD          30000                 US           100   \n",
      "2   25500             USD          25500                 US           100   \n",
      "3  175000             USD         175000                 CA           100   \n",
      "4  120000             USD         120000                 CA           100   \n",
      "\n",
      "  company_location company_size  \n",
      "0               ES            L  \n",
      "1               US            S  \n",
      "2               US            S  \n",
      "3               CA            M  \n",
      "4               CA            M  \n"
     ]
    }
   ],
   "source": [
    "#para comenzar debemos cargar el archico con pandas\n",
    "import pandas as pd\n",
    "\n",
    "salarios_df = pd.read_excel('ds_salaries.xlsx')\n",
    "print(salarios_df.head())"
   ]
  },
  {
   "cell_type": "code",
   "execution_count": 31,
   "id": "11a5ab0d",
   "metadata": {
    "scrolled": true
   },
   "outputs": [
    {
     "name": "stdout",
     "output_type": "stream",
     "text": [
      "   work_year experience_level employment_type                 job_title  \\\n",
      "0       2023               SE              FT  Principal Data Scientist   \n",
      "1       2023               MI              CT               ML Engineer   \n",
      "2       2023               MI              CT               ML Engineer   \n",
      "3       2023               SE              FT            Data Scientist   \n",
      "4       2023               SE              FT            Data Scientist   \n",
      "\n",
      "   salary salary_currency  salary_in_usd employee_residence  remote_ratio  \\\n",
      "0   80000             EUR          85847                 ES           100   \n",
      "1   30000             USD          30000                 US           100   \n",
      "2   25500             USD          25500                 US           100   \n",
      "3  175000             USD         175000                 CA           100   \n",
      "4  120000             USD         120000                 CA           100   \n",
      "\n",
      "  company_location company_size  \n",
      "0               ES            L  \n",
      "1               US            S  \n",
      "2               US            S  \n",
      "3               CA            M  \n",
      "4               CA            M  \n",
      "Promedio de salarios en USD: 137570.38988015978\n",
      "Desviación estándar de salarios en USD: 63055.625278224084\n",
      "Quintiles de salarios en USD:\n",
      "0.25     95000.0\n",
      "0.50    135000.0\n",
      "0.75    175000.0\n",
      "Name: salary_in_usd, dtype: float64\n",
      "Rango de salarios en USD: 444868\n"
     ]
    }
   ],
   "source": [
    "print(salarios_df.head())\n",
    "\n",
    "# Luego, intenta calcular las estadísticas descriptivas nuevamente\n",
    "promedio_salarios = salarios_df['salary_in_usd'].mean()\n",
    "desviacion_estandar_salarios = salarios_df['salary_in_usd'].std()\n",
    "quintiles_salarios = salarios_df['salary_in_usd'].quantile([0.25, 0.5, 0.75])\n",
    "rango_salarios = salarios_df['salary_in_usd'].max() - salarios_df['salary_in_usd'].min()\n",
    "\n",
    "# Imprimir los resultados\n",
    "print(\"Promedio de salarios en USD:\", promedio_salarios)\n",
    "print(\"Desviación estándar de salarios en USD:\", desviacion_estandar_salarios)\n",
    "print(\"Quintiles de salarios en USD:\")\n",
    "print(quintiles_salarios)\n",
    "print(\"Rango de salarios en USD:\", rango_salarios)\n",
    "\n"
   ]
  },
  {
   "cell_type": "code",
   "execution_count": 32,
   "id": "e19a6b7c",
   "metadata": {},
   "outputs": [
    {
     "data": {
      "text/plain": [
       "count      3755.000000\n",
       "mean     137570.389880\n",
       "std       63055.625278\n",
       "min        5132.000000\n",
       "25%       95000.000000\n",
       "50%      135000.000000\n",
       "75%      175000.000000\n",
       "max      450000.000000\n",
       "Name: salary_in_usd, dtype: float64"
      ]
     },
     "execution_count": 32,
     "metadata": {},
     "output_type": "execute_result"
    }
   ],
   "source": [
    "# tambien podemos usar el describe\n",
    "salarios_df['salary_in_usd'].describe()\n"
   ]
  },
  {
   "cell_type": "markdown",
   "id": "fd6eb3e9",
   "metadata": {},
   "source": [
    "Una comparación entre los salarios agrupados por 3 diferentes categorías a tu elección. \n",
    "¿Para cuál de ellas las medidas de tendencia central son más representativas? \n",
    "¿Para cuál son menos representativas?\n",
    "\n",
    "Para comparar los salarios agrupados por diferentes categorías, podemos seleccionar \n",
    "tres variables diferentes y calcular las medidas de tendencia central para cada una de ellas.\n",
    "siempre habra que comparar la experiencia, tipo de emmpleo y el tamaño de empresa\n",
    "en nuestro archivo usaremos las columnas\n",
    "\"experience_level\", \"employment_type\" y \"company_size\":"
   ]
  },
  {
   "cell_type": "code",
   "execution_count": 33,
   "id": "676df6a7",
   "metadata": {},
   "outputs": [
    {
     "name": "stdout",
     "output_type": "stream",
     "text": [
      "Promedio de salarios por nivel de experiencia:\n",
      "experience_level\n",
      "EN     78546.284375\n",
      "EX    194930.929825\n",
      "MI    104525.939130\n",
      "SE    153051.071542\n",
      "Name: salary_in_usd, dtype: float64\n",
      "\n",
      "Promedio de salarios por tipo de empleo:\n",
      "employment_type\n",
      "CT    113446.900000\n",
      "FL     51807.800000\n",
      "FT    138314.199570\n",
      "PT     39533.705882\n",
      "Name: salary_in_usd, dtype: float64\n",
      "\n",
      "Promedio de salarios por tamaño de empresa:\n",
      "company_size\n",
      "L    118300.982379\n",
      "M    143130.548367\n",
      "S     78226.682432\n",
      "Name: salary_in_usd, dtype: float64\n"
     ]
    }
   ],
   "source": [
    "# Calcular el promedio de los salarios agrupados por nivel de experiencia\n",
    "promedio_salarios_por_nivel = salarios_df.groupby('experience_level')['salary_in_usd'].mean()\n",
    "\n",
    "# Calcular el promedio de los salarios agrupados por tipo de empleo\n",
    "promedio_salarios_por_empleo = salarios_df.groupby('employment_type')['salary_in_usd'].mean()\n",
    "\n",
    "# Calcular el promedio de los salarios agrupados por tamaño de empresa\n",
    "promedio_salarios_por_tamaño_empresa = salarios_df.groupby('company_size')['salary_in_usd'].mean()\n",
    "\n",
    "print(\"Promedio de salarios por nivel de experiencia:\")\n",
    "print(promedio_salarios_por_nivel)\n",
    "print(\"\\nPromedio de salarios por tipo de empleo:\")\n",
    "print(promedio_salarios_por_empleo)\n",
    "print(\"\\nPromedio de salarios por tamaño de empresa:\")\n",
    "print(promedio_salarios_por_tamaño_empresa)\n"
   ]
  },
  {
   "cell_type": "markdown",
   "id": "425ba137",
   "metadata": {},
   "source": [
    "ahora debemos tener en cuenta que la mas representativa es por el tipo de empleo \n",
    "la menos representativa es la del tamapo de empresa por la razon que puede ser antigua y no escalar en cambio el tipo de empleo \n",
    "varia mucho dependiendo del area"
   ]
  },
  {
   "cell_type": "markdown",
   "id": "d8336a30",
   "metadata": {},
   "source": [
    "# ¿Qué cargos reciben mejores sueldos en las empresas con sede en Estados Unidos?\n"
   ]
  },
  {
   "cell_type": "code",
   "execution_count": 35,
   "id": "35c8e75d",
   "metadata": {},
   "outputs": [
    {
     "name": "stdout",
     "output_type": "stream",
     "text": [
      "Cargos con mejores sueldos en empresas con sede en Estados Unidos:\n",
      "job_title\n",
      "Data Analytics Lead                   405000.000000\n",
      "Data Science Tech Lead                375000.000000\n",
      "Director of Data Science              294375.000000\n",
      "Principal Data Scientist              255500.000000\n",
      "Cloud Data Architect                  250000.000000\n",
      "Applied Data Scientist                238000.000000\n",
      "Head of Data                          233183.333333\n",
      "Machine Learning Software Engineer    217400.000000\n",
      "Data Lead                             212500.000000\n",
      "Head of Data Science                  202355.000000\n",
      "Name: salary_in_usd, dtype: float64\n"
     ]
    }
   ],
   "source": [
    "# Primero seleccionamos la locacion de la sede, en este caso nos piden US\n",
    "salarios_usa_df = salarios_df[salarios_df['company_location'] == 'US']\n",
    "\n",
    "# calculamos el promedio del salario  y agrupamos en conjunto del empleo o cargo\n",
    "promedio_salarios_por_cargo = salarios_usa_df.groupby('job_title')['salary_in_usd'].mean()\n",
    "\n",
    "# ordenamos en descendente\n",
    "mejores_sueldos = promedio_salarios_por_cargo.sort_values(ascending=False)\n",
    "\n",
    "# mostranmos los solicitado\n",
    "print(\"cargos con mejores sueldos en empresas con sede en Estados Unidos:\")\n",
    "print(mejores_sueldos.head(10)) #mostraremos solo los 10\n"
   ]
  },
  {
   "cell_type": "code",
   "execution_count": null,
   "id": "28af013a",
   "metadata": {},
   "outputs": [],
   "source": []
  }
 ],
 "metadata": {
  "kernelspec": {
   "display_name": "Python 3 (ipykernel)",
   "language": "python",
   "name": "python3"
  },
  "language_info": {
   "codemirror_mode": {
    "name": "ipython",
    "version": 3
   },
   "file_extension": ".py",
   "mimetype": "text/x-python",
   "name": "python",
   "nbconvert_exporter": "python",
   "pygments_lexer": "ipython3",
   "version": "3.11.5"
  }
 },
 "nbformat": 4,
 "nbformat_minor": 5
}
