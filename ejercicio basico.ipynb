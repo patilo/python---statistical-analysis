{
 "cells": [
  {
   "cell_type": "raw",
   "id": "25b729ff",
   "metadata": {},
   "source": [
    "En este ejercicio, cargaremos un archivo llamado pokemon y haremos lo siguiente\n",
    "a. Calcula el promedio, mediana y moda de las variables Altura (Height) y peso\n",
    "(Weight)\n",
    "b. Calcula los quintiles, rango intercuartil y varianza de las mismas variables.\n",
    "c. Calcula el promedio de peso y altura de los Pokemon, agrupados por Shapes\n",
    "d. En cada uno de los casos anteriores, ¿cuál presenta una media más\n",
    "representativa? ¿Cómo lo puedes determinar? Explica.\n",
    "\n",
    "paso a paso necesitamos cargar el archivo"
   ]
  },
  {
   "cell_type": "code",
   "execution_count": 10,
   "id": "97eb947e",
   "metadata": {},
   "outputs": [
    {
     "name": "stdout",
     "output_type": "stream",
     "text": [
      "   Pokédex No.           Name         Species  Color      Shape   Types  \\\n",
      "0            1      Bulbasaur    Seed Pokémon  Green  Quadruped    Dual   \n",
      "1            2        Ivysaur    Seed Pokémon  Green  Quadruped    Dual   \n",
      "2            3       Venusaur    Seed Pokémon  Green  Quadruped    Dual   \n",
      "3            3  Mega Venusaur    Seed Pokémon  Green  Quadruped    Dual   \n",
      "4            4     Charmander  Lizard Pokémon    Red    Upright  Single   \n",
      "\n",
      "  Type 1  Type 2 Abilities    Ability 1  ... Against Dark       Against Steel  \\\n",
      "0  Grass  Poison       Two  Chlorophyll  ...       Normal              Normal   \n",
      "1  Grass  Poison       Two  Chlorophyll  ...       Normal              Normal   \n",
      "2  Grass  Poison       Two  Chlorophyll  ...       Normal              Normal   \n",
      "3  Grass  Poison       One    Thick Fat  ...       Normal              Normal   \n",
      "4   Fire       -       Two        Blaze  ...       Normal  Not very effective   \n",
      "\n",
      "        Against Fairy  Height  Weight  BMI (Body Mass Index)  Game of Origin  \\\n",
      "0  Not very effective     0.7     6.9                   14.1     Pokémon Red   \n",
      "1  Not very effective     1.0    13.0                   13.0     Pokémon Red   \n",
      "2  Not very effective     2.0   100.0                   25.0     Pokémon Red   \n",
      "3  Not very effective     2.4   155.5                   27.0       Pokémon X   \n",
      "4  Not very effective     0.6     8.5                   23.6     Pokémon Red   \n",
      "\n",
      "                                     Bulbapedia URLs  \\\n",
      "0  https://bulbapedia.bulbagarden.net/wiki/Bulbas...   \n",
      "1  https://bulbapedia.bulbagarden.net/wiki/Ivysau...   \n",
      "2  https://bulbapedia.bulbagarden.net/wiki/Venusa...   \n",
      "3  https://bulbapedia.bulbagarden.net/wiki/Venusa...   \n",
      "4  https://bulbapedia.bulbagarden.net/wiki/Charma...   \n",
      "\n",
      "                                       Gameinfo URLs  \\\n",
      "0  https://pokemon.gameinfo.io/en/pokemon/1-bulba...   \n",
      "1   https://pokemon.gameinfo.io/en/pokemon/2-ivysaur   \n",
      "2  https://pokemon.gameinfo.io/en/pokemon/3-venusaur   \n",
      "3  https://pokemon.gameinfo.io/en/pokemon/3-venus...   \n",
      "4  https://pokemon.gameinfo.io/en/pokemon/4-charm...   \n",
      "\n",
      "                                          Image URLs  \n",
      "0  https://archives.bulbagarden.net/media/upload/...  \n",
      "1  https://archives.bulbagarden.net/media/upload/...  \n",
      "2  https://archives.bulbagarden.net/media/upload/...  \n",
      "3  https://archives.bulbagarden.net/media/upload/...  \n",
      "4  https://archives.bulbagarden.net/media/upload/...  \n",
      "\n",
      "[5 rows x 64 columns]\n"
     ]
    }
   ],
   "source": [
    "import pandas as pd\n",
    "#le damos un nombre al archivo\n",
    "pokemon_df = pd.read_excel('POKEMON.xlsx')\n",
    "print(pokemon_df.head())"
   ]
  },
  {
   "cell_type": "code",
   "execution_count": 14,
   "id": "773ce847",
   "metadata": {},
   "outputs": [
    {
     "name": "stdout",
     "output_type": "stream",
     "text": [
      "   Pokédex No.           Name         Species  Color      Shape   Types  \\\n",
      "0            1      Bulbasaur    Seed Pokémon  Green  Quadruped    Dual   \n",
      "1            2        Ivysaur    Seed Pokémon  Green  Quadruped    Dual   \n",
      "2            3       Venusaur    Seed Pokémon  Green  Quadruped    Dual   \n",
      "3            3  Mega Venusaur    Seed Pokémon  Green  Quadruped    Dual   \n",
      "4            4     Charmander  Lizard Pokémon    Red    Upright  Single   \n",
      "\n",
      "  Type 1  Type 2 Abilities    Ability 1  ... Height Weight  \\\n",
      "0  Grass  Poison       Two  Chlorophyll  ...    0.7    6.9   \n",
      "1  Grass  Poison       Two  Chlorophyll  ...    1.0   13.0   \n",
      "2  Grass  Poison       Two  Chlorophyll  ...    2.0  100.0   \n",
      "3  Grass  Poison       One    Thick Fat  ...    2.4  155.5   \n",
      "4   Fire       -       Two        Blaze  ...    0.6    8.5   \n",
      "\n",
      "   BMI (Body Mass Index)  Game of Origin  \\\n",
      "0                   14.1     Pokémon Red   \n",
      "1                   13.0     Pokémon Red   \n",
      "2                   25.0     Pokémon Red   \n",
      "3                   27.0       Pokémon X   \n",
      "4                   23.6     Pokémon Red   \n",
      "\n",
      "                                     Bulbapedia URLs  \\\n",
      "0  https://bulbapedia.bulbagarden.net/wiki/Bulbas...   \n",
      "1  https://bulbapedia.bulbagarden.net/wiki/Ivysau...   \n",
      "2  https://bulbapedia.bulbagarden.net/wiki/Venusa...   \n",
      "3  https://bulbapedia.bulbagarden.net/wiki/Venusa...   \n",
      "4  https://bulbapedia.bulbagarden.net/wiki/Charma...   \n",
      "\n",
      "                                       Gameinfo URLs  \\\n",
      "0  https://pokemon.gameinfo.io/en/pokemon/1-bulba...   \n",
      "1   https://pokemon.gameinfo.io/en/pokemon/2-ivysaur   \n",
      "2  https://pokemon.gameinfo.io/en/pokemon/3-venusaur   \n",
      "3  https://pokemon.gameinfo.io/en/pokemon/3-venus...   \n",
      "4  https://pokemon.gameinfo.io/en/pokemon/4-charm...   \n",
      "\n",
      "                                          Image URLs  Moda Height  \\\n",
      "0  https://archives.bulbagarden.net/media/upload/...          0.6   \n",
      "1  https://archives.bulbagarden.net/media/upload/...          0.6   \n",
      "2  https://archives.bulbagarden.net/media/upload/...          0.6   \n",
      "3  https://archives.bulbagarden.net/media/upload/...          0.6   \n",
      "4  https://archives.bulbagarden.net/media/upload/...          0.6   \n",
      "\n",
      "   Mediana Height  Promedio Height  \n",
      "0             1.0         1.286822  \n",
      "1             1.0         1.286822  \n",
      "2             1.0         1.286822  \n",
      "3             1.0         1.286822  \n",
      "4             1.0         1.286822  \n",
      "\n",
      "[5 rows x 67 columns]\n"
     ]
    }
   ],
   "source": [
    "print(pokemon_df.head())"
   ]
  },
  {
   "cell_type": "code",
   "execution_count": 15,
   "id": "78129b20",
   "metadata": {},
   "outputs": [
    {
     "name": "stdout",
     "output_type": "stream",
     "text": [
      "Altura:\n",
      "Promedio: 1.2868217054263567\n",
      "Mediana: 1.0\n",
      "Moda: 0.6\n",
      "\n",
      "Peso:\n",
      "Promedio: 71.87984496124031\n",
      "Mediana: 29.75\n",
      "Moda: 0.3\n"
     ]
    }
   ],
   "source": [
    "#otra forma de hacerlo es mostrando los resultados en pantalla\n",
    "altura_promedio = pokemon_df['Height'].mean()\n",
    "altura_mediana = pokemon_df['Height'].median()\n",
    "altura_moda = pokemon_df['Height'].mode()[0]\n",
    "\n",
    "# Calcular promedio, mediana y moda de Peso (Weight)\n",
    "peso_promedio = pokemon_df['Weight'].mean()\n",
    "peso_mediana = pokemon_df['Weight'].median()\n",
    "peso_moda = pokemon_df['Weight'].mode()[0]\n",
    "\n",
    "print(\"Altura:\")\n",
    "print(\"Promedio:\", altura_promedio)\n",
    "print(\"Mediana:\", altura_mediana)\n",
    "print(\"Moda:\", altura_moda)\n",
    "\n",
    "print(\"\\nPeso:\")\n",
    "print(\"Promedio:\", peso_promedio)\n",
    "print(\"Mediana:\", peso_mediana)\n",
    "print(\"Moda:\", peso_moda)"
   ]
  },
  {
   "cell_type": "code",
   "execution_count": 16,
   "id": "9a5a7317",
   "metadata": {},
   "outputs": [
    {
     "name": "stdout",
     "output_type": "stream",
     "text": [
      "      Pokédex No.                  Name              Species  Color  \\\n",
      "0               1             Bulbasaur         Seed Pokémon  Green   \n",
      "1               2               Ivysaur         Seed Pokémon  Green   \n",
      "2               3              Venusaur         Seed Pokémon  Green   \n",
      "3               3         Mega Venusaur         Seed Pokémon  Green   \n",
      "4               4            Charmander       Lizard Pokémon    Red   \n",
      "...           ...                   ...                  ...    ...   \n",
      "1027          896             Glastrier   Wild Horse Pokémon  White   \n",
      "1028          897             Spectrier  Swift Horse Pokémon  Black   \n",
      "1029          898               Calyrex         King Pokémon  Green   \n",
      "1030          898     Calyrex Ice Rider    High King Pokémon  Green   \n",
      "1031          898  Calyrex Shadow Rider    High King Pokémon  Green   \n",
      "\n",
      "          Shape   Types   Type 1  Type 2 Abilities       Ability 1  ...  \\\n",
      "0     Quadruped    Dual    Grass  Poison       Two     Chlorophyll  ...   \n",
      "1     Quadruped    Dual    Grass  Poison       Two     Chlorophyll  ...   \n",
      "2     Quadruped    Dual    Grass  Poison       Two     Chlorophyll  ...   \n",
      "3     Quadruped    Dual    Grass  Poison       One       Thick Fat  ...   \n",
      "4       Upright  Single     Fire       -       Two           Blaze  ...   \n",
      "...         ...     ...      ...     ...       ...             ...  ...   \n",
      "1027  Quadruped  Single      Ice       -       One  Chilling Neigh  ...   \n",
      "1028  Quadruped  Single    Ghost       -       One      Grim Neigh  ...   \n",
      "1029   Humanoid    Dual  Psychic   Grass       One         Unnerve  ...   \n",
      "1030   Humanoid    Dual  Psychic     Ice       One          As One  ...   \n",
      "1031   Humanoid    Dual  Psychic   Ghost       One          As One  ...   \n",
      "\n",
      "                                             Image URLs Moda Height  \\\n",
      "0     https://archives.bulbagarden.net/media/upload/...         0.6   \n",
      "1     https://archives.bulbagarden.net/media/upload/...         0.6   \n",
      "2     https://archives.bulbagarden.net/media/upload/...         0.6   \n",
      "3     https://archives.bulbagarden.net/media/upload/...         0.6   \n",
      "4     https://archives.bulbagarden.net/media/upload/...         0.6   \n",
      "...                                                 ...         ...   \n",
      "1027  https://archives.bulbagarden.net/media/upload/...         0.6   \n",
      "1028  https://archives.bulbagarden.net/media/upload/...         0.6   \n",
      "1029  https://archives.bulbagarden.net/media/upload/...         0.6   \n",
      "1030  https://archives.bulbagarden.net/media/upload/...         0.6   \n",
      "1031  https://archives.bulbagarden.net/media/upload/...         0.6   \n",
      "\n",
      "      Mediana Height  Promedio Height  Altura_Promedio  Altura_Mediana  \\\n",
      "0                1.0         1.286822         1.286822             1.0   \n",
      "1                1.0         1.286822         1.286822             1.0   \n",
      "2                1.0         1.286822         1.286822             1.0   \n",
      "3                1.0         1.286822         1.286822             1.0   \n",
      "4                1.0         1.286822         1.286822             1.0   \n",
      "...              ...              ...              ...             ...   \n",
      "1027             1.0         1.286822         1.286822             1.0   \n",
      "1028             1.0         1.286822         1.286822             1.0   \n",
      "1029             1.0         1.286822         1.286822             1.0   \n",
      "1030             1.0         1.286822         1.286822             1.0   \n",
      "1031             1.0         1.286822         1.286822             1.0   \n",
      "\n",
      "      Altura_Moda  Peso_Promedio  Peso_Mediana  Peso_Moda  \n",
      "0             0.6      71.879845         29.75        0.3  \n",
      "1             0.6      71.879845         29.75        0.3  \n",
      "2             0.6      71.879845         29.75        0.3  \n",
      "3             0.6      71.879845         29.75        0.3  \n",
      "4             0.6      71.879845         29.75        0.3  \n",
      "...           ...            ...           ...        ...  \n",
      "1027          0.6      71.879845         29.75        0.3  \n",
      "1028          0.6      71.879845         29.75        0.3  \n",
      "1029          0.6      71.879845         29.75        0.3  \n",
      "1030          0.6      71.879845         29.75        0.3  \n",
      "1031          0.6      71.879845         29.75        0.3  \n",
      "\n",
      "[1032 rows x 73 columns]\n"
     ]
    }
   ],
   "source": [
    "#para guardar los resultados en una columna haremos lo siguiente\n",
    "# Calcular promedio, mediana y moda de Altura (Height)\n",
    "pokemon_df['Altura_Promedio'] = pokemon_df['Height'].mean()\n",
    "pokemon_df['Altura_Mediana'] = pokemon_df['Height'].median()\n",
    "pokemon_df['Altura_Moda'] = pokemon_df['Height'].mode()[0]\n",
    "\n",
    "# Calcular promedio, mediana y moda de Peso (Weight)\n",
    "pokemon_df['Peso_Promedio'] = pokemon_df['Weight'].mean()\n",
    "pokemon_df['Peso_Mediana'] = pokemon_df['Weight'].median()\n",
    "pokemon_df['Peso_Moda'] = pokemon_df['Weight'].mode()[0]\n",
    "\n",
    "print(pokemon_df)\n"
   ]
  },
  {
   "cell_type": "code",
   "execution_count": 17,
   "id": "981cf22e",
   "metadata": {},
   "outputs": [
    {
     "name": "stdout",
     "output_type": "stream",
     "text": [
      "Altura:\n",
      "Quintiles: 0.2    0.5\n",
      "0.4    0.8\n",
      "0.6    1.2\n",
      "0.8    1.7\n",
      "Name: Height, dtype: float64\n",
      "Rango Intercuartil: 1.0\n",
      "Varianza: 1.9362762126030943\n",
      "\n",
      "Peso:\n",
      "Quintiles: 0.2     7.00\n",
      "0.4    20.00\n",
      "0.6    40.46\n",
      "0.8    89.00\n",
      "Name: Weight, dtype: float64\n",
      "Rango Intercuartil: 62.275000000000006\n",
      "Varianza: 17655.16543237167\n"
     ]
    }
   ],
   "source": [
    "# Calcular quintiles, rango intercuartil y varianza de Altura (Height)\n",
    "altura_quintiles = pokemon_df['Height'].quantile([0.2, 0.4, 0.6, 0.8])\n",
    "altura_rango_intercuartil = pokemon_df['Height'].quantile(0.75) - pokemon_df['Height'].quantile(0.25)\n",
    "altura_varianza = pokemon_df['Height'].var()\n",
    "\n",
    "# Calcular quintiles, rango intercuartil y varianza de Peso (Weight)\n",
    "peso_quintiles = pokemon_df['Weight'].quantile([0.2, 0.4, 0.6, 0.8])\n",
    "peso_rango_intercuartil = pokemon_df['Weight'].quantile(0.75) - pokemon_df['Weight'].quantile(0.25)\n",
    "peso_varianza = pokemon_df['Weight'].var()\n",
    "\n",
    "print(\"Altura:\")\n",
    "print(\"Quintiles:\", altura_quintiles)\n",
    "print(\"Rango Intercuartil:\", altura_rango_intercuartil)\n",
    "print(\"Varianza:\", altura_varianza)\n",
    "\n",
    "print(\"\\nPeso:\")\n",
    "print(\"Quintiles:\", peso_quintiles)\n",
    "print(\"Rango Intercuartil:\", peso_rango_intercuartil)\n",
    "print(\"Varianza:\", peso_varianza)\n"
   ]
  },
  {
   "cell_type": "code",
   "execution_count": 18,
   "id": "250b785a",
   "metadata": {},
   "outputs": [
    {
     "name": "stdout",
     "output_type": "stream",
     "text": [
      "             Height      Weight\n",
      "Shape                          \n",
      "Armor      0.717073   29.319512\n",
      "Arms       1.305085   62.637288\n",
      "Ball       0.569231   53.378846\n",
      "Blob       0.988889   32.531111\n",
      "Bug-Wings  1.250000   39.168182\n",
      "Fish       1.797674   66.946512\n",
      "Heads      1.136842  128.084211\n",
      "Humanoid   1.206369   74.604459\n",
      "Legs       1.258333   69.695833\n",
      "Quadruped  1.178756   88.149223\n",
      "Squiggle   2.866667  116.807143\n",
      "Tentacles  1.562500  120.566667\n",
      "Upright    1.280822   72.511872\n",
      "Wings      1.473913   52.072826\n"
     ]
    }
   ],
   "source": [
    "# Calcular el promedio de peso y altura agrupados por Shapes\n",
    "promedio_por_shape = pokemon_df.groupby('Shape').agg({'Height':'mean', 'Weight':'mean'})\n",
    "\n",
    "print(promedio_por_shape)\n"
   ]
  },
  {
   "cell_type": "markdown",
   "id": "10a61587",
   "metadata": {},
   "source": [
    "Carga el dataset PS4_GamesSales.csv, y a partir de sus datos:\n",
    "a. Calcula el promedio y la desviación estándar de ventas de los videojuegos\n",
    "según cada región\n",
    "b. ¿Qué género presenta mayor dispersión en sus ventas globales? ¿Y en sus\n",
    "ventas por región?\n"
   ]
  },
  {
   "cell_type": "code",
   "execution_count": 19,
   "id": "8c8cbfd1",
   "metadata": {},
   "outputs": [
    {
     "name": "stdout",
     "output_type": "stream",
     "text": [
      "                        Game    Year             Genre       Publisher  \\\n",
      "0         Grand Theft Auto V  2014.0            Action  Rockstar Games   \n",
      "1  Call of Duty: Black Ops 3  2015.0           Shooter      Activision   \n",
      "2      Red Dead Redemption 2  2018.0  Action-Adventure  Rockstar Games   \n",
      "3         Call of Duty: WWII  2017.0           Shooter      Activision   \n",
      "4                    FIFA 18  2017.0            Sports       EA Sports   \n",
      "\n",
      "   North America  Europe  Japan  Rest of World  Global  \n",
      "0           6.06    9.71   0.60           3.02   19.39  \n",
      "1           6.18    6.05   0.41           2.44   15.09  \n",
      "2           5.26    6.21   0.21           2.26   13.94  \n",
      "3           4.67    6.21   0.40           2.12   13.40  \n",
      "4           1.27    8.64   0.15           1.73   11.80  \n"
     ]
    }
   ],
   "source": [
    "import pandas as pd\n",
    "PS4_GamesSales_df = pd.read_csv('PS4_GamesSales.csv')\n",
    "print(PS4_GamesSales_df.head())"
   ]
  },
  {
   "cell_type": "code",
   "execution_count": 23,
   "id": "4234e83c",
   "metadata": {},
   "outputs": [
    {
     "name": "stdout",
     "output_type": "stream",
     "text": [
      "Promedio de ventas por región:\n",
      "North America    0.297986\n",
      "Europe           0.362211\n",
      "Japan            0.048986\n",
      "Rest of World    0.129634\n",
      "dtype: float64\n",
      "\n",
      "Desviación estándar de ventas por región:\n",
      "North America    0.659339\n",
      "Europe           0.926167\n",
      "Japan            0.127866\n",
      "Rest of World    0.292163\n",
      "dtype: float64\n"
     ]
    }
   ],
   "source": [
    "# Calcular el promedio y la desviación estándar de las ventas para cada región\n",
    "promedio_ventas_por_region = PS4_GamesSales_df[['North America', 'Europe', 'Japan', 'Rest of World']].mean()\n",
    "desviacion_ventas_por_region = PS4_GamesSales_df[['North America', 'Europe', 'Japan', 'Rest of World']].std()\n",
    "\n",
    "print(\"Promedio de ventas por región:\")\n",
    "print(promedio_ventas_por_region)\n",
    "\n",
    "print(\"\\nDesviación estándar de ventas por región:\")\n",
    "print(desviacion_ventas_por_region)\n",
    "\n"
   ]
  },
  {
   "cell_type": "code",
   "execution_count": 25,
   "id": "ed22ca2a",
   "metadata": {},
   "outputs": [
    {
     "name": "stdout",
     "output_type": "stream",
     "text": [
      "                        Game    Year             Genre       Publisher  \\\n",
      "0         Grand Theft Auto V  2014.0            Action  Rockstar Games   \n",
      "1  Call of Duty: Black Ops 3  2015.0           Shooter      Activision   \n",
      "2      Red Dead Redemption 2  2018.0  Action-Adventure  Rockstar Games   \n",
      "3         Call of Duty: WWII  2017.0           Shooter      Activision   \n",
      "4                    FIFA 18  2017.0            Sports       EA Sports   \n",
      "\n",
      "   North America  Europe  Japan  Rest of World  Global  \n",
      "0           6.06    9.71   0.60           3.02   19.39  \n",
      "1           6.18    6.05   0.41           2.44   15.09  \n",
      "2           5.26    6.21   0.21           2.26   13.94  \n",
      "3           4.67    6.21   0.40           2.12   13.40  \n",
      "4           1.27    8.64   0.15           1.73   11.80  \n"
     ]
    }
   ],
   "source": [
    "print(PS4_GamesSales_df.head())"
   ]
  },
  {
   "cell_type": "code",
   "execution_count": 26,
   "id": "e12eed67",
   "metadata": {},
   "outputs": [
    {
     "name": "stdout",
     "output_type": "stream",
     "text": [
      "Género con mayor dispersión en ventas globales: Shooter\n",
      "Género con mayor dispersión en ventas por región: Europe\n"
     ]
    }
   ],
   "source": [
    "# Calcular la desviación estándar de las ventas globales por género\n",
    "desviacion_ventas_globales_por_genero = PS4_GamesSales_df.groupby('Genre')['Global'].std()\n",
    "\n",
    "# Calcular la desviación estándar de las ventas por región por género\n",
    "desviacion_ventas_por_region_por_genero = PS4_GamesSales_df.groupby('Genre')[['North America', 'Europe', 'Japan', 'Rest of World']].std()\n",
    "\n",
    "# Encontrar el género con la mayor dispersión en ventas globales\n",
    "genero_mayor_dispersión_globales = desviacion_ventas_globales_por_genero.idxmax()\n",
    "\n",
    "# Encontrar el género con la mayor dispersión en ventas por región\n",
    "genero_mayor_dispersión_region = desviacion_ventas_por_region_por_genero.max().idxmax()\n",
    "\n",
    "print(\"Género con mayor dispersión en ventas globales:\", genero_mayor_dispersión_globales)\n",
    "print(\"Género con mayor dispersión en ventas por región:\", genero_mayor_dispersión_region)\n"
   ]
  },
  {
   "cell_type": "markdown",
   "id": "aa353a85",
   "metadata": {},
   "source": [
    "Carga el dataset earnings.csv, y a partir de sus datos:\n",
    "a. Calcula los indicadores correspondientes para las variables cuantitativas.\n",
    "¿Qué cuidados hay que tener?\n",
    "b. ¿Qué variable presenta una mayor dispersión? Explica.\n"
   ]
  },
  {
   "cell_type": "code",
   "execution_count": 34,
   "id": "c9f9a904",
   "metadata": {},
   "outputs": [
    {
     "name": "stdout",
     "output_type": "stream",
     "text": [
      "   height  weight  male     earn  earnk ethnicity  education  \\\n",
      "0      74   210.0     1  50000.0   50.0     White       16.0   \n",
      "1      66   125.0     0  60000.0   60.0     White       16.0   \n",
      "2      64   126.0     0  30000.0   30.0     White       16.0   \n",
      "3      65   200.0     0  25000.0   25.0     White       17.0   \n",
      "4      63   110.0     0  50000.0   50.0     Other       16.0   \n",
      "\n",
      "   mother_education  father_education  walk  exercise  smokenow  tense  angry  \\\n",
      "0              16.0              16.0     3         3       2.0    0.0    0.0   \n",
      "1              16.0              16.0     6         5       1.0    0.0    0.0   \n",
      "2              16.0              16.0     8         1       2.0    1.0    1.0   \n",
      "3              17.0               NaN     8         1       2.0    0.0    0.0   \n",
      "4              16.0              16.0     5         6       2.0    0.0    0.0   \n",
      "\n",
      "   age  \n",
      "0   45  \n",
      "1   58  \n",
      "2   29  \n",
      "3   57  \n",
      "4   91  \n"
     ]
    }
   ],
   "source": [
    "earnings_df = pd.read_csv('earnings.csv', delimiter=',')\n",
    "print(earnings_df.head())\n",
    "                          "
   ]
  },
  {
   "cell_type": "code",
   "execution_count": null,
   "id": "25dead1f",
   "metadata": {},
   "outputs": [],
   "source": []
  }
 ],
 "metadata": {
  "kernelspec": {
   "display_name": "Python 3 (ipykernel)",
   "language": "python",
   "name": "python3"
  },
  "language_info": {
   "codemirror_mode": {
    "name": "ipython",
    "version": 3
   },
   "file_extension": ".py",
   "mimetype": "text/x-python",
   "name": "python",
   "nbconvert_exporter": "python",
   "pygments_lexer": "ipython3",
   "version": "3.11.5"
  }
 },
 "nbformat": 4,
 "nbformat_minor": 5
}
