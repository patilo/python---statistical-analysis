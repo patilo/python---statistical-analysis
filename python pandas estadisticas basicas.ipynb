{
 "cells": [
  {
   "cell_type": "raw",
   "id": "69cb92ff",
   "metadata": {},
   "source": [
    "Para comenzar en esta seccion primero debemos entender como leer un archivo, interpretar los datos y crear lo que necesitamos, \n",
    "en esta ocacion cargaremos un archivo excel y calcularemos lo basico de este mismo creando una nueva columna para los resultados\n",
    "ejemplo la moda, el promedio, la mediana y la varianza, todo esto es calculado de X columna y se creara una nueva dentro del mismo archivo"
   ]
  },
  {
   "cell_type": "code",
   "execution_count": null,
   "id": "4a8b9405",
   "metadata": {},
   "outputs": [],
   "source": [
    "import pandas as pd\n",
    "\n",
    "# Cargar el archivo Excel en un DataFrame de pandas, sucede que aveces es necesario poner la ruta del archivo ej /documentos/archivo.xlsx\n",
    "df = pd.read_excel('archivo.xlsx')\n",
    "\n",
    "# Calcular la moda, la mediana, el promedio y la varianza de una columna utilizando pandas\n",
    "moda = df['Nombre_de_la_Columna'].mode()[0]  # La función mode() devuelve una serie, por lo que necesitamos el primer elemento\n",
    "mediana = df['Nombre_de_la_Columna'].median()\n",
    "promedio = df['Nombre_de_la_Columna'].mean()\n",
    "varianza = df['Nombre_de_la_Columna'].var()\n",
    "\n",
    "# Crear nuevas columnas en el DataFrame con los valores de moda, mediana, promedio y varianza\n",
    "df['Moda'] = moda\n",
    "df['Mediana'] = mediana\n",
    "df['Promedio'] = promedio\n",
    "df['Varianza'] = varianza\n",
    "\n",
    "print(df)\n",
    "# Nos deberia mostrar todas las columnas creadas\n"
   ]
  }
 ],
 "metadata": {
  "kernelspec": {
   "display_name": "Python 3 (ipykernel)",
   "language": "python",
   "name": "python3"
  },
  "language_info": {
   "codemirror_mode": {
    "name": "ipython",
    "version": 3
   },
   "file_extension": ".py",
   "mimetype": "text/x-python",
   "name": "python",
   "nbconvert_exporter": "python",
   "pygments_lexer": "ipython3",
   "version": "3.11.5"
  }
 },
 "nbformat": 4,
 "nbformat_minor": 5
}
